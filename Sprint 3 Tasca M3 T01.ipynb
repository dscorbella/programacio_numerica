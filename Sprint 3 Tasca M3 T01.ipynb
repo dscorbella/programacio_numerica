{
 "cells": [
  {
   "cell_type": "markdown",
   "id": "4e5d6a3c",
   "metadata": {
    "ExecuteTime": {
     "end_time": "2023-06-29T09:53:39.759708Z",
     "start_time": "2023-06-29T09:53:39.739414Z"
    }
   },
   "source": [
    "# Sprint 3 Tarea M3 T01\n",
    "## Ejercicio 1\n",
    "**Crea una función que dado un Array de una dimensión, te haga un resumen estadístico básico de los datos. Si detecta que el array tiene más de una dimensión, tiene que mostrar un mensaje de error.**"
   ]
  },
  {
   "cell_type": "code",
   "execution_count": 4,
   "id": "50b950cb",
   "metadata": {
    "ExecuteTime": {
     "end_time": "2023-07-03T10:43:52.683180Z",
     "start_time": "2023-07-03T10:43:52.676199Z"
    }
   },
   "outputs": [
    {
     "name": "stdout",
     "output_type": "stream",
     "text": [
      "\n",
      "Resumen estadístico:\n",
      "Número de elementos: 5\n",
      "Valor mínimo: 1\n",
      "Valor máximo: 5\n",
      "Media: 3.0\n",
      "Mediana: 3.0\n",
      "Desviación estándar: 1.4142135623730951\n"
     ]
    }
   ],
   "source": [
    "import numpy as np\n",
    "\n",
    "def resumen_estat(array):\n",
    "    if array.ndim > 1:\n",
    "        print(\"Error: El array tiene más de una dimensión.\")\n",
    "        return\n",
    "    \n",
    "    print(\"\\nResumen estadístico:\")\n",
    "    print(\"Número de elementos:\", array.size)\n",
    "    print(\"Valor mínimo:\", np.min(array))\n",
    "    print(\"Valor máximo:\", np.max(array))\n",
    "    print(\"Media:\", np.mean(array))\n",
    "    print(\"Mediana:\", np.median(array))\n",
    "    print(\"Desviación estándar:\", np.std(array))\n",
    "\n",
    "    \n",
    "datos = np.array([1, 2, 3, 4, 5])\n",
    "resumen_estat(datos)\n"
   ]
  },
  {
   "cell_type": "markdown",
   "id": "0fbb44c3",
   "metadata": {},
   "source": [
    "## Ejercicio 2\n",
    "**Crea una función que te genere un cuadrado NxN de números aleatorios entre el 0 y el 100.**"
   ]
  },
  {
   "cell_type": "code",
   "execution_count": 5,
   "id": "8e8eae8b",
   "metadata": {
    "ExecuteTime": {
     "end_time": "2023-07-03T10:43:56.350620Z",
     "start_time": "2023-07-03T10:43:54.519937Z"
    }
   },
   "outputs": [
    {
     "name": "stdout",
     "output_type": "stream",
     "text": [
      "¿Cuál es el valor de N? 5\n",
      "[[37  8  0 77 17]\n",
      " [21 45 55 76 50]\n",
      " [45 71 77 61 62]\n",
      " [49 11 10 41 37]\n",
      " [29  7  0 80 95]]\n"
     ]
    }
   ],
   "source": [
    "import numpy as np\n",
    "\n",
    "N = int(input(\"¿Cuál es el valor de N? \"))\n",
    "\n",
    "def matriz_nxn(n):\n",
    "    array = np.random.randint(0, 101, size=(n, n))\n",
    "    return(array)\n",
    "    \n",
    "matriz_prueba = matriz_nxn(N)\n",
    "print(matriz_prueba)"
   ]
  },
  {
   "cell_type": "markdown",
   "id": "45aeddac",
   "metadata": {},
   "source": [
    "## Ejercicio 3\n",
    "**Crea una función que dada una tabla de dos dimensiones (NxM), te calcule los totales por fila y los totales por columna.**"
   ]
  },
  {
   "cell_type": "code",
   "execution_count": 6,
   "id": "dbf34d8d",
   "metadata": {
    "ExecuteTime": {
     "end_time": "2023-07-03T10:43:58.119853Z",
     "start_time": "2023-07-03T10:43:58.100902Z"
    }
   },
   "outputs": [
    {
     "name": "stdout",
     "output_type": "stream",
     "text": [
      "\n",
      "La suma de las filas son: [139 247 316 148 211]\n",
      "La suma de las columnas son: [181 142 142 335 261]\n"
     ]
    }
   ],
   "source": [
    "import numpy as np\n",
    "\n",
    "def suma_filas_y_columnas(matriz):\n",
    "    print(\"\\nLa suma de las filas son:\", np.sum(matriz, axis=1))\n",
    "    print(\"La suma de las columnas son:\", np.sum(matriz, axis=0))\n",
    "\n",
    "suma_filas_y_columnas(matriz_prueba)"
   ]
  },
  {
   "cell_type": "markdown",
   "id": "8240c45e",
   "metadata": {},
   "source": [
    "## Exercici 4\n",
    "**Implementa manualment una funció que calculi el coeficient de correlació. Informa-te'n sobre els seus usos i interpretació.**"
   ]
  },
  {
   "cell_type": "code",
   "execution_count": 8,
   "id": "9800091e",
   "metadata": {
    "ExecuteTime": {
     "end_time": "2023-07-03T10:44:17.098355Z",
     "start_time": "2023-07-03T10:44:17.086395Z"
    }
   },
   "outputs": [
    {
     "name": "stdout",
     "output_type": "stream",
     "text": [
      "[[1.         0.02871462 0.0187272  0.81441246 0.30770743]\n",
      " [0.02871462 1.         0.99231144 0.07301108 0.13424064]\n",
      " [0.0187272  0.99231144 1.         0.09830143 0.11651035]\n",
      " [0.81441246 0.07301108 0.09830143 1.         0.27406732]\n",
      " [0.30770743 0.13424064 0.11651035 0.27406732 1.        ]]\n"
     ]
    }
   ],
   "source": [
    "import numpy as np\n",
    "\n",
    "def matriz_de_correlacion(matriz):\n",
    "    matriz_np = np.array(matriz)\n",
    "    media_columnas = np.mean(matriz_np, axis=0)\n",
    "    desviacion_estandar_columnas = np.std(matriz_np, axis=0)\n",
    "    matriz_normalizada = (matriz_np - media_columnas) / desviacion_estandar_columnas\n",
    "    num_columnas = matriz_normalizada.shape[1]\n",
    "    matriz_correlacion = np.zeros((num_columnas, num_columnas))\n",
    "\n",
    "    for i in range(num_columnas):\n",
    "        for j in range(i, num_columnas):\n",
    "            producto_punto = np.dot(matriz_normalizada[:, i], matriz_normalizada[:, j])\n",
    "            matriz_correlacion[i, j] = producto_punto / (matriz_normalizada.shape[0])\n",
    "            matriz_correlacion[j, i] = matriz_correlacion[i, j]\n",
    "            matriz_correlacion = np.abs(matriz_correlacion)\n",
    "\n",
    "    return matriz_correlacion\n",
    "\n",
    "resultado = matriz_de_correlacion(matriz_prueba)\n",
    "print(resultado)\n"
   ]
  }
 ],
 "metadata": {
  "hide_input": false,
  "kernelspec": {
   "display_name": "Python 3 (ipykernel)",
   "language": "python",
   "name": "python3"
  },
  "language_info": {
   "codemirror_mode": {
    "name": "ipython",
    "version": 3
   },
   "file_extension": ".py",
   "mimetype": "text/x-python",
   "name": "python",
   "nbconvert_exporter": "python",
   "pygments_lexer": "ipython3",
   "version": "3.9.13"
  },
  "nbTranslate": {
   "displayLangs": [
    "*"
   ],
   "hotkey": "alt-t",
   "langInMainMenu": true,
   "sourceLang": "en",
   "targetLang": "fr",
   "useGoogleTranslate": true
  },
  "toc": {
   "base_numbering": 1,
   "nav_menu": {},
   "number_sections": true,
   "sideBar": true,
   "skip_h1_title": false,
   "title_cell": "Table of Contents",
   "title_sidebar": "Contents",
   "toc_cell": false,
   "toc_position": {},
   "toc_section_display": true,
   "toc_window_display": false
  },
  "varInspector": {
   "cols": {
    "lenName": 16,
    "lenType": 16,
    "lenVar": 40
   },
   "kernels_config": {
    "python": {
     "delete_cmd_postfix": "",
     "delete_cmd_prefix": "del ",
     "library": "var_list.py",
     "varRefreshCmd": "print(var_dic_list())"
    },
    "r": {
     "delete_cmd_postfix": ") ",
     "delete_cmd_prefix": "rm(",
     "library": "var_list.r",
     "varRefreshCmd": "cat(var_dic_list()) "
    }
   },
   "types_to_exclude": [
    "module",
    "function",
    "builtin_function_or_method",
    "instance",
    "_Feature"
   ],
   "window_display": false
  }
 },
 "nbformat": 4,
 "nbformat_minor": 5
}
